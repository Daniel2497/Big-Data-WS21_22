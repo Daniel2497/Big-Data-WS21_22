{
 "cells": [
  {
   "cell_type": "markdown",
   "metadata": {},
   "source": [
    "## Generate New Sparse Matrix\n"
   ]
  },
  {
   "cell_type": "code",
   "execution_count": 4,
   "metadata": {},
   "outputs": [],
   "source": [
    "import numpy as np\n",
    "import math\n",
    "from random import seed\n",
    "from random import choice\n",
    "from random import random\n",
    "import os"
   ]
  },
  {
   "cell_type": "code",
   "execution_count": 5,
   "metadata": {},
   "outputs": [],
   "source": [
    "def touch(path):\n",
    "    with open(path, 'a'):\n",
    "        os.utime(path, None)\n",
    "touch(\"0.txt\")"
   ]
  },
  {
   "cell_type": "code",
   "execution_count": 53,
   "metadata": {},
   "outputs": [
    {
     "name": "stdout",
     "output_type": "stream",
     "text": [
      "[[0.56124506 0.21863797 0.         0.        ]\n",
      " [0.         0.         0.03178268 0.        ]\n",
      " [0.08693883 0.64988444 0.         0.10249518]]\n",
      "[0.6394268  0.02501076 0.27502932 0.22321074]\n"
     ]
    }
   ],
   "source": [
    "def random_sparse(m,n,density):\n",
    "    numbers=math.ceil(m*n*density)\n",
    "    A=np.zeros(n*m)\n",
    "    x=np.zeros(n)\n",
    "    #s=range(n*m)\n",
    "    s=[]\n",
    "    for i in range(n*m):\n",
    "        s.append(i)\n",
    "    for i in range(n):\n",
    "        x[i]=random()\n",
    "    for _ in range(numbers):\n",
    "        p=choice(s)\n",
    "        A[p]= random()\n",
    "        s.remove(p)\n",
    "    A.shape=(m,n)\n",
    "    print(A)\n",
    "    print(x)\n",
    "    #return A continue\n",
    "    #return x\n",
    "    \n",
    "    for j in range(n):\n",
    "        s1= str(j)\n",
    "        s2=\".txt\"\n",
    "        s1+=s2\n",
    "        touch(s1)\n",
    "        f=open(s1,\"a\")# -a write to the end of the file, -w overwrite the file\n",
    "        for i in range(m):\n",
    "            if A[i,j]!=0:\n",
    "                s3=str(i)\n",
    "                s4=str(A[i,j])\n",
    "                s3=\"(\"+s3+\",\"+s4+\")\"\n",
    "                #print(s3)\n",
    "                f.write(s3)\n",
    "        f.write(\";\")\n",
    "        f.write(str(x[j]))\n",
    "        f.close()\n",
    "seed(42)\n",
    "random_sparse(3,4,0.5)"
   ]
  },
  {
   "cell_type": "code",
   "execution_count": 37,
   "metadata": {},
   "outputs": [
    {
     "name": "stdout",
     "output_type": "stream",
     "text": [
      "<class 'range'>\n"
     ]
    }
   ],
   "source": [
    "print(type(range(42)))\n"
   ]
  },
  {
   "cell_type": "code",
   "execution_count": 35,
   "metadata": {},
   "outputs": [],
   "source": [
    "touch(\"test.txt\")"
   ]
  },
  {
   "cell_type": "code",
   "execution_count": 50,
   "metadata": {},
   "outputs": [],
   "source": [
    "f=open(\"test.txt\",\"a\")"
   ]
  },
  {
   "cell_type": "code",
   "execution_count": 51,
   "metadata": {},
   "outputs": [
    {
     "data": {
      "text/plain": [
       "3"
      ]
     },
     "execution_count": 51,
     "metadata": {},
     "output_type": "execute_result"
    }
   ],
   "source": [
    "s43=str(223)\n",
    "f.write(s43)"
   ]
  },
  {
   "cell_type": "code",
   "execution_count": 52,
   "metadata": {},
   "outputs": [],
   "source": [
    "f.close()"
   ]
  }
 ],
 "metadata": {
  "kernelspec": {
   "display_name": "Python 3",
   "language": "python",
   "name": "python3"
  },
  "language_info": {
   "codemirror_mode": {
    "name": "ipython",
    "version": 3
   },
   "file_extension": ".py",
   "mimetype": "text/x-python",
   "name": "python",
   "nbconvert_exporter": "python",
   "pygments_lexer": "ipython3",
   "version": "3.8.5"
  }
 },
 "nbformat": 4,
 "nbformat_minor": 4
}
